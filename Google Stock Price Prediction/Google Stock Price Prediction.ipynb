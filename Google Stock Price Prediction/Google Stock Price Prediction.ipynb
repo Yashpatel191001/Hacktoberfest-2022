{
 "cells": [
  {
   "cell_type": "code",
   "execution_count": 4,
   "id": "e0f246b8",
   "metadata": {},
   "outputs": [],
   "source": [
    "import os\n",
    "import numpy as np\n",
    "import pandas as pd\n",
    "import matplotlib.pyplot as plt\n",
    "%matplotlib inline"
   ]
  },
  {
   "cell_type": "code",
   "execution_count": 6,
   "id": "409a2481",
   "metadata": {},
   "outputs": [
    {
     "data": {
      "text/html": [
       "<div>\n",
       "<style scoped>\n",
       "    .dataframe tbody tr th:only-of-type {\n",
       "        vertical-align: middle;\n",
       "    }\n",
       "\n",
       "    .dataframe tbody tr th {\n",
       "        vertical-align: top;\n",
       "    }\n",
       "\n",
       "    .dataframe thead th {\n",
       "        text-align: right;\n",
       "    }\n",
       "</style>\n",
       "<table border=\"1\" class=\"dataframe\">\n",
       "  <thead>\n",
       "    <tr style=\"text-align: right;\">\n",
       "      <th></th>\n",
       "      <th>Date</th>\n",
       "      <th>Open</th>\n",
       "      <th>High</th>\n",
       "      <th>Low</th>\n",
       "      <th>Close</th>\n",
       "      <th>Adj Close</th>\n",
       "      <th>Volume</th>\n",
       "    </tr>\n",
       "  </thead>\n",
       "  <tbody>\n",
       "    <tr>\n",
       "      <th>0</th>\n",
       "      <td>2018-10-10</td>\n",
       "      <td>56.554001</td>\n",
       "      <td>56.608501</td>\n",
       "      <td>54.056499</td>\n",
       "      <td>54.061001</td>\n",
       "      <td>54.061001</td>\n",
       "      <td>53514000</td>\n",
       "    </tr>\n",
       "    <tr>\n",
       "      <th>1</th>\n",
       "      <td>2018-10-11</td>\n",
       "      <td>53.646999</td>\n",
       "      <td>55.320000</td>\n",
       "      <td>53.413502</td>\n",
       "      <td>53.966000</td>\n",
       "      <td>53.966000</td>\n",
       "      <td>58980000</td>\n",
       "    </tr>\n",
       "    <tr>\n",
       "      <th>2</th>\n",
       "      <td>2018-10-12</td>\n",
       "      <td>55.400002</td>\n",
       "      <td>55.750000</td>\n",
       "      <td>54.320099</td>\n",
       "      <td>55.504002</td>\n",
       "      <td>55.504002</td>\n",
       "      <td>42026000</td>\n",
       "    </tr>\n",
       "    <tr>\n",
       "      <th>3</th>\n",
       "      <td>2018-10-15</td>\n",
       "      <td>55.445499</td>\n",
       "      <td>55.672298</td>\n",
       "      <td>54.450001</td>\n",
       "      <td>54.612499</td>\n",
       "      <td>54.612499</td>\n",
       "      <td>27448000</td>\n",
       "    </tr>\n",
       "    <tr>\n",
       "      <th>4</th>\n",
       "      <td>2018-10-16</td>\n",
       "      <td>55.229500</td>\n",
       "      <td>56.210999</td>\n",
       "      <td>55.125000</td>\n",
       "      <td>56.063999</td>\n",
       "      <td>56.063999</td>\n",
       "      <td>38570000</td>\n",
       "    </tr>\n",
       "  </tbody>\n",
       "</table>\n",
       "</div>"
      ],
      "text/plain": [
       "         Date       Open       High        Low      Close  Adj Close    Volume\n",
       "0  2018-10-10  56.554001  56.608501  54.056499  54.061001  54.061001  53514000\n",
       "1  2018-10-11  53.646999  55.320000  53.413502  53.966000  53.966000  58980000\n",
       "2  2018-10-12  55.400002  55.750000  54.320099  55.504002  55.504002  42026000\n",
       "3  2018-10-15  55.445499  55.672298  54.450001  54.612499  54.612499  27448000\n",
       "4  2018-10-16  55.229500  56.210999  55.125000  56.063999  56.063999  38570000"
      ]
     },
     "execution_count": 6,
     "metadata": {},
     "output_type": "execute_result"
    }
   ],
   "source": [
    "dataset_train = pd.read_csv('GOOG.csv')\n",
    "dataset_train.head()"
   ]
  },
  {
   "cell_type": "code",
   "execution_count": 7,
   "id": "d9819afe",
   "metadata": {},
   "outputs": [
    {
     "name": "stdout",
     "output_type": "stream",
     "text": [
      "[[ 56.554001]\n",
      " [ 53.646999]\n",
      " [ 55.400002]\n",
      " ...\n",
      " [100.690002]\n",
      " [101.5     ]\n",
      " [100.650002]]\n",
      "(1006, 1)\n"
     ]
    }
   ],
   "source": [
    "# Open Stock Price to train model\n",
    "training_set = dataset_train.iloc[:,1:2].values\n",
    "print(training_set)\n",
    "print(training_set.shape)"
   ]
  },
  {
   "cell_type": "code",
   "execution_count": 8,
   "id": "6897cbc7",
   "metadata": {},
   "outputs": [
    {
     "data": {
      "text/plain": [
       "array([[0.07617637],\n",
       "       [0.04799914],\n",
       "       [0.06499079],\n",
       "       ...,\n",
       "       [0.50398139],\n",
       "       [0.51183261],\n",
       "       [0.50359368]])"
      ]
     },
     "execution_count": 8,
     "metadata": {},
     "output_type": "execute_result"
    }
   ],
   "source": [
    "# Normalizing Dataset\n",
    "from sklearn.preprocessing import MinMaxScaler\n",
    "\n",
    "scaler = MinMaxScaler(feature_range=(0,1))\n",
    "scaled_traing_set = scaler.fit_transform(training_set)\n",
    "\n",
    "scaled_traing_set"
   ]
  },
  {
   "cell_type": "code",
   "execution_count": 9,
   "id": "430e638f",
   "metadata": {},
   "outputs": [],
   "source": [
    "# X_train and y_train data structures\n",
    "\n",
    "X_train = []\n",
    "y_train = []\n",
    "\n",
    "for i in range(60,1006):\n",
    "    X_train.append(scaled_traing_set[i-60:i, 0])\n",
    "    y_train.append(scaled_traing_set[i, 0])\n",
    "\n",
    "X_train = np.array(X_train)\n",
    "y_train = np.array(y_train)"
   ]
  },
  {
   "cell_type": "code",
   "execution_count": 10,
   "id": "3f436615",
   "metadata": {},
   "outputs": [
    {
     "name": "stdout",
     "output_type": "stream",
     "text": [
      "(946, 60)\n",
      "(946,)\n"
     ]
    }
   ],
   "source": [
    "print(X_train.shape)\n",
    "print(y_train.shape)"
   ]
  },
  {
   "cell_type": "code",
   "execution_count": 11,
   "id": "3dfe8eae",
   "metadata": {},
   "outputs": [
    {
     "data": {
      "text/plain": [
       "(946, 60, 1)"
      ]
     },
     "execution_count": 11,
     "metadata": {},
     "output_type": "execute_result"
    }
   ],
   "source": [
    "# reshape the data \n",
    "\n",
    "X_train = np.reshape(X_train, (X_train.shape[0], X_train.shape[1], 1))\n",
    "\n",
    "X_train.shape"
   ]
  },
  {
   "cell_type": "code",
   "execution_count": 15,
   "id": "43daf1c6",
   "metadata": {},
   "outputs": [],
   "source": [
    "#  Building the Model by Importing the Crucial Libraries and Adding Different Layers to LSTM\n",
    "\n",
    "from keras.models import Sequential\n",
    "from keras.layers import LSTM\n",
    "from keras.layers import Dense\n",
    "from keras.layers import Dropout"
   ]
  },
  {
   "cell_type": "code",
   "execution_count": 16,
   "id": "e285650b",
   "metadata": {},
   "outputs": [],
   "source": [
    "regressor = Sequential()\n",
    "\n",
    "regressor.add(LSTM(units = 50, return_sequences= True, input_shape = (X_train.shape[1], 1)))\n",
    "regressor.add(Dropout(0.2))\n",
    "\n",
    "regressor.add(LSTM(units = 50, return_sequences= True))\n",
    "regressor.add(Dropout(0.2))\n",
    "\n",
    "regressor.add(LSTM(units = 50, return_sequences= True))\n",
    "regressor.add(Dropout(0.2))\n",
    "\n",
    "regressor.add(LSTM(units = 50))\n",
    "regressor.add(Dropout(0.2))\n",
    "\n",
    "regressor.add(Dense(units = 1))"
   ]
  },
  {
   "cell_type": "code",
   "execution_count": 17,
   "id": "69fe3b6e",
   "metadata": {},
   "outputs": [
    {
     "name": "stdout",
     "output_type": "stream",
     "text": [
      "Epoch 1/100\n",
      "30/30 [==============================] - 25s 175ms/step - loss: 0.0460\n",
      "Epoch 2/100\n",
      "30/30 [==============================] - 5s 178ms/step - loss: 0.0080\n",
      "Epoch 3/100\n",
      "30/30 [==============================] - 5s 179ms/step - loss: 0.0058\n",
      "Epoch 4/100\n",
      "30/30 [==============================] - 6s 187ms/step - loss: 0.0064\n",
      "Epoch 5/100\n",
      "30/30 [==============================] - 5s 168ms/step - loss: 0.0057\n",
      "Epoch 6/100\n",
      "30/30 [==============================] - 6s 208ms/step - loss: 0.0056\n",
      "Epoch 7/100\n",
      "30/30 [==============================] - 5s 181ms/step - loss: 0.0058\n",
      "Epoch 8/100\n",
      "30/30 [==============================] - 5s 167ms/step - loss: 0.0054\n",
      "Epoch 9/100\n",
      "30/30 [==============================] - 5s 170ms/step - loss: 0.0046\n",
      "Epoch 10/100\n",
      "30/30 [==============================] - 5s 179ms/step - loss: 0.0050\n",
      "Epoch 11/100\n",
      "30/30 [==============================] - 6s 191ms/step - loss: 0.0056\n",
      "Epoch 12/100\n",
      "30/30 [==============================] - 6s 186ms/step - loss: 0.0045\n",
      "Epoch 13/100\n",
      "30/30 [==============================] - 5s 176ms/step - loss: 0.0043\n",
      "Epoch 14/100\n",
      "30/30 [==============================] - 5s 168ms/step - loss: 0.0046\n",
      "Epoch 15/100\n",
      "30/30 [==============================] - 5s 173ms/step - loss: 0.0064\n",
      "Epoch 16/100\n",
      "30/30 [==============================] - 5s 172ms/step - loss: 0.0044\n",
      "Epoch 17/100\n",
      "30/30 [==============================] - 6s 185ms/step - loss: 0.0040\n",
      "Epoch 18/100\n",
      "30/30 [==============================] - 5s 183ms/step - loss: 0.0038\n",
      "Epoch 19/100\n",
      "30/30 [==============================] - 6s 191ms/step - loss: 0.0040\n",
      "Epoch 20/100\n",
      "30/30 [==============================] - 5s 175ms/step - loss: 0.0038\n",
      "Epoch 21/100\n",
      "30/30 [==============================] - 6s 195ms/step - loss: 0.0037\n",
      "Epoch 22/100\n",
      "30/30 [==============================] - 6s 191ms/step - loss: 0.0042\n",
      "Epoch 23/100\n",
      "30/30 [==============================] - 5s 182ms/step - loss: 0.0042\n",
      "Epoch 24/100\n",
      "30/30 [==============================] - 5s 182ms/step - loss: 0.0035\n",
      "Epoch 25/100\n",
      "30/30 [==============================] - 6s 186ms/step - loss: 0.0033\n",
      "Epoch 26/100\n",
      "30/30 [==============================] - 6s 186ms/step - loss: 0.0033\n",
      "Epoch 27/100\n",
      "30/30 [==============================] - 6s 188ms/step - loss: 0.0030\n",
      "Epoch 28/100\n",
      "30/30 [==============================] - 6s 184ms/step - loss: 0.0032\n",
      "Epoch 29/100\n",
      "30/30 [==============================] - 5s 172ms/step - loss: 0.0031\n",
      "Epoch 30/100\n",
      "30/30 [==============================] - 5s 171ms/step - loss: 0.0034\n",
      "Epoch 31/100\n",
      "30/30 [==============================] - 5s 170ms/step - loss: 0.0032\n",
      "Epoch 32/100\n",
      "30/30 [==============================] - 5s 172ms/step - loss: 0.0031\n",
      "Epoch 33/100\n",
      "30/30 [==============================] - 5s 169ms/step - loss: 0.0029\n",
      "Epoch 34/100\n",
      "30/30 [==============================] - 5s 170ms/step - loss: 0.0029\n",
      "Epoch 35/100\n",
      "30/30 [==============================] - 5s 173ms/step - loss: 0.0032\n",
      "Epoch 36/100\n",
      "30/30 [==============================] - 5s 169ms/step - loss: 0.0029\n",
      "Epoch 37/100\n",
      "30/30 [==============================] - 5s 172ms/step - loss: 0.0026\n",
      "Epoch 38/100\n",
      "30/30 [==============================] - 5s 170ms/step - loss: 0.0028\n",
      "Epoch 39/100\n",
      "30/30 [==============================] - 6s 188ms/step - loss: 0.0028\n",
      "Epoch 40/100\n",
      "30/30 [==============================] - 5s 160ms/step - loss: 0.0026\n",
      "Epoch 41/100\n",
      "30/30 [==============================] - 5s 163ms/step - loss: 0.0030\n",
      "Epoch 42/100\n",
      "30/30 [==============================] - 5s 158ms/step - loss: 0.0025\n",
      "Epoch 43/100\n",
      "30/30 [==============================] - 5s 159ms/step - loss: 0.0027\n",
      "Epoch 44/100\n",
      "30/30 [==============================] - 5s 160ms/step - loss: 0.0027\n",
      "Epoch 45/100\n",
      "30/30 [==============================] - 5s 160ms/step - loss: 0.0029\n",
      "Epoch 46/100\n",
      "30/30 [==============================] - 5s 163ms/step - loss: 0.0025\n",
      "Epoch 47/100\n",
      "30/30 [==============================] - 5s 162ms/step - loss: 0.0027\n",
      "Epoch 48/100\n",
      "30/30 [==============================] - 5s 162ms/step - loss: 0.0026\n",
      "Epoch 49/100\n",
      "30/30 [==============================] - 5s 161ms/step - loss: 0.0030\n",
      "Epoch 50/100\n",
      "30/30 [==============================] - 5s 157ms/step - loss: 0.0024\n",
      "Epoch 51/100\n",
      "30/30 [==============================] - 5s 161ms/step - loss: 0.0024\n",
      "Epoch 52/100\n",
      "30/30 [==============================] - 5s 158ms/step - loss: 0.0024\n",
      "Epoch 53/100\n",
      "30/30 [==============================] - 5s 164ms/step - loss: 0.0022\n",
      "Epoch 54/100\n",
      "30/30 [==============================] - 5s 160ms/step - loss: 0.0025\n",
      "Epoch 55/100\n",
      "30/30 [==============================] - 5s 159ms/step - loss: 0.0025\n",
      "Epoch 56/100\n",
      "30/30 [==============================] - 5s 162ms/step - loss: 0.0024\n",
      "Epoch 57/100\n",
      "30/30 [==============================] - 5s 163ms/step - loss: 0.0028\n",
      "Epoch 58/100\n",
      "30/30 [==============================] - 6s 182ms/step - loss: 0.0023\n",
      "Epoch 59/100\n",
      "30/30 [==============================] - 5s 182ms/step - loss: 0.0025\n",
      "Epoch 60/100\n",
      "30/30 [==============================] - 5s 165ms/step - loss: 0.0024\n",
      "Epoch 61/100\n",
      "30/30 [==============================] - 5s 166ms/step - loss: 0.0022\n",
      "Epoch 62/100\n",
      "30/30 [==============================] - 5s 159ms/step - loss: 0.0021\n",
      "Epoch 63/100\n",
      "30/30 [==============================] - 5s 159ms/step - loss: 0.0023\n",
      "Epoch 64/100\n",
      "30/30 [==============================] - 5s 177ms/step - loss: 0.0024\n",
      "Epoch 65/100\n",
      "30/30 [==============================] - 6s 194ms/step - loss: 0.0022\n",
      "Epoch 66/100\n",
      "30/30 [==============================] - 5s 179ms/step - loss: 0.0022\n",
      "Epoch 67/100\n",
      "30/30 [==============================] - 5s 172ms/step - loss: 0.0021\n",
      "Epoch 68/100\n",
      "30/30 [==============================] - 5s 165ms/step - loss: 0.0024\n",
      "Epoch 69/100\n",
      "30/30 [==============================] - 5s 170ms/step - loss: 0.0022\n",
      "Epoch 70/100\n",
      "30/30 [==============================] - 5s 165ms/step - loss: 0.0022\n",
      "Epoch 71/100\n",
      "30/30 [==============================] - 5s 160ms/step - loss: 0.0023\n",
      "Epoch 72/100\n",
      "30/30 [==============================] - 5s 159ms/step - loss: 0.0019\n",
      "Epoch 73/100\n",
      "30/30 [==============================] - 5s 163ms/step - loss: 0.0024\n",
      "Epoch 74/100\n",
      "30/30 [==============================] - 5s 161ms/step - loss: 0.0023\n",
      "Epoch 75/100\n",
      "30/30 [==============================] - 5s 159ms/step - loss: 0.0020\n",
      "Epoch 76/100\n",
      "30/30 [==============================] - 5s 161ms/step - loss: 0.0021\n",
      "Epoch 77/100\n",
      "30/30 [==============================] - 5s 160ms/step - loss: 0.0024\n",
      "Epoch 78/100\n",
      "30/30 [==============================] - 5s 161ms/step - loss: 0.0022\n",
      "Epoch 79/100\n",
      "30/30 [==============================] - 5s 161ms/step - loss: 0.0022\n",
      "Epoch 80/100\n",
      "30/30 [==============================] - 5s 180ms/step - loss: 0.0019\n",
      "Epoch 81/100\n",
      "30/30 [==============================] - 6s 185ms/step - loss: 0.0020\n",
      "Epoch 82/100\n",
      "30/30 [==============================] - 5s 176ms/step - loss: 0.0021\n",
      "Epoch 83/100\n",
      "30/30 [==============================] - 5s 174ms/step - loss: 0.0020\n",
      "Epoch 84/100\n",
      "30/30 [==============================] - 5s 162ms/step - loss: 0.0020\n",
      "Epoch 85/100\n",
      "30/30 [==============================] - 5s 181ms/step - loss: 0.0024\n",
      "Epoch 86/100\n",
      "30/30 [==============================] - 5s 159ms/step - loss: 0.0018\n",
      "Epoch 87/100\n",
      "30/30 [==============================] - 5s 162ms/step - loss: 0.0019\n",
      "Epoch 88/100\n",
      "30/30 [==============================] - 5s 158ms/step - loss: 0.0021\n",
      "Epoch 89/100\n",
      "30/30 [==============================] - 5s 165ms/step - loss: 0.0019\n",
      "Epoch 90/100\n",
      "30/30 [==============================] - 5s 157ms/step - loss: 0.0020\n",
      "Epoch 91/100\n",
      "30/30 [==============================] - 5s 157ms/step - loss: 0.0023\n",
      "Epoch 92/100\n",
      "30/30 [==============================] - 5s 170ms/step - loss: 0.0017\n",
      "Epoch 93/100\n",
      "30/30 [==============================] - 5s 160ms/step - loss: 0.0018\n",
      "Epoch 94/100\n",
      "30/30 [==============================] - 5s 160ms/step - loss: 0.0021\n",
      "Epoch 95/100\n",
      "30/30 [==============================] - 5s 158ms/step - loss: 0.0020\n",
      "Epoch 96/100\n",
      "30/30 [==============================] - 5s 161ms/step - loss: 0.0020\n",
      "Epoch 97/100\n",
      "30/30 [==============================] - 5s 157ms/step - loss: 0.0018\n",
      "Epoch 98/100\n",
      "30/30 [==============================] - 5s 159ms/step - loss: 0.0017\n",
      "Epoch 99/100\n"
     ]
    },
    {
     "name": "stdout",
     "output_type": "stream",
     "text": [
      "30/30 [==============================] - 5s 156ms/step - loss: 0.0019\n",
      "Epoch 100/100\n",
      "30/30 [==============================] - 5s 156ms/step - loss: 0.0019\n"
     ]
    },
    {
     "data": {
      "text/plain": [
       "<keras.callbacks.History at 0x2a7c2864bb0>"
      ]
     },
     "execution_count": 17,
     "metadata": {},
     "output_type": "execute_result"
    }
   ],
   "source": [
    "# Fitting Model\n",
    "\n",
    "regressor.compile(optimizer= 'adam', loss = 'mean_squared_error')\n",
    "regressor.fit(X_train, y_train, epochs=100, batch_size = 32)"
   ]
  },
  {
   "cell_type": "code",
   "execution_count": 19,
   "id": "7f511114",
   "metadata": {},
   "outputs": [],
   "source": [
    "# Extracting the Actual Stock Prices\n",
    "\n",
    "dataset_test = pd.read_csv('GOOG.csv')\n",
    "actual_stock_price = dataset_test.iloc[:,1:2].values"
   ]
  },
  {
   "cell_type": "code",
   "execution_count": 29,
   "id": "46d59c8d",
   "metadata": {},
   "outputs": [],
   "source": [
    "# Preparing the Input for the Model\n",
    "\n",
    "dataset_total = pd.concat((dataset_train['Open'], dataset_test['Open']), axis = 0)\n",
    "inputs = dataset_total[len(dataset_total) - len(dataset_test)-60:].values\n",
    "\n",
    "inputs = inputs.reshape(-1,1)\n",
    "inputs = scaler.transform(inputs)\n",
    "\n",
    "X_test = []\n",
    "\n",
    "for i in range(60, 1066):\n",
    "    X_test.append(inputs[i-60:i, 0])\n",
    "X_test = np.array(X_test)\n",
    "X_test = np.reshape(X_test, (X_test.shape[0], X_test.shape[1], 1))"
   ]
  },
  {
   "cell_type": "code",
   "execution_count": 30,
   "id": "4d786caa",
   "metadata": {},
   "outputs": [
    {
     "name": "stdout",
     "output_type": "stream",
     "text": [
      "32/32 [==============================] - 2s 51ms/step\n"
     ]
    }
   ],
   "source": [
    "predicted_stock_price = regressor.predict(X_test)\n",
    "predicted_stock_price = scaler.inverse_transform(predicted_stock_price)"
   ]
  },
  {
   "cell_type": "code",
   "execution_count": 31,
   "id": "6e4bf13b",
   "metadata": {},
   "outputs": [
    {
     "data": {
      "text/plain": [
       "<matplotlib.legend.Legend at 0x2a7ce7d1670>"
      ]
     },
     "execution_count": 31,
     "metadata": {},
     "output_type": "execute_result"
    },
    {
     "data": {
      "image/png": "[encoded data removed]",
      "text/plain": [
       "<Figure size 432x288 with 1 Axes>"
      ]
     },
     "metadata": {
      "needs_background": "light"
     },
     "output_type": "display_data"
    }
   ],
   "source": [
    "plt.plot(actual_stock_price, color = 'red', label = 'Actual Google Stock Price')\n",
    "plt.plot(predicted_stock_price, color = 'blue', label = 'Predicted Google Stock Price')\n",
    "plt.title('Google Stock Price Prediction')\n",
    "plt.xlabel('Time')\n",
    "plt.ylabel('Google Stock Price')\n",
    "plt.legend()"
   ]
  }
 ],
 "metadata": {
  "kernelspec": {
   "display_name": "Python 3 (ipykernel)",
   "language": "python",
   "name": "python3"
  },
  "language_info": {
   "codemirror_mode": {
    "name": "ipython",
    "version": 3
   },
   "file_extension": ".py",
   "mimetype": "text/x-python",
   "name": "python",
   "nbconvert_exporter": "python",
   "pygments_lexer": "ipython3",
   "version": "3.9.7"
  }
 },
 "nbformat": 4,
 "nbformat_minor": 5
}
